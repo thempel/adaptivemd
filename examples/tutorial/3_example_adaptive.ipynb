{
 "cells": [
  {
   "cell_type": "markdown",
   "metadata": {},
   "source": [
    "# AdaptiveMD\n",
    "\n",
    "## Example 3 - Running an adaptive loop"
   ]
  },
  {
   "cell_type": "markdown",
   "metadata": {},
   "source": [
    "### 0. Imports"
   ]
  },
  {
   "cell_type": "code",
   "execution_count": 1,
   "metadata": {
    "collapsed": true
   },
   "outputs": [],
   "source": [
    "import sys, os"
   ]
  },
  {
   "cell_type": "code",
   "execution_count": 2,
   "metadata": {
    "collapsed": false
   },
   "outputs": [],
   "source": [
    "from adaptivemd import (\n",
    "    Project,\n",
    "    Event, FunctionalEvent,\n",
    "    File\n",
    ")\n",
    "\n",
    "# We need this to be part of the imports. You can only restore known objects\n",
    "# Once these are imported you can load these objects.\n",
    "from adaptivemd.engine.openmm import OpenMMEngine\n",
    "from adaptivemd.analysis.pyemma import PyEMMAAnalysis"
   ]
  },
  {
   "cell_type": "markdown",
   "metadata": {},
   "source": [
    "Let's open our `test` project by its name. If you completed the first examples this should all work out of the box."
   ]
  },
  {
   "cell_type": "code",
   "execution_count": 3,
   "metadata": {
    "collapsed": false
   },
   "outputs": [],
   "source": [
    "project = Project('tutorial')"
   ]
  },
  {
   "cell_type": "markdown",
   "metadata": {},
   "source": [
    "Open all connections to the `MongoDB` and `Session` so we can get started."
   ]
  },
  {
   "cell_type": "markdown",
   "metadata": {},
   "source": [
    "> An interesting thing to note here is, that since we use a DB in the back, data is synced between notebooks. If you want to see how this works, just run some tasks in the last example, go back here and check on the change of the contents of the project."
   ]
  },
  {
   "cell_type": "markdown",
   "metadata": {},
   "source": [
    "Let's see where we are. These numbers will depend on whether you run this notebook for the first time or just continue again. Unless you delete your project it will accumulate models and files over time, as is our ultimate goal."
   ]
  },
  {
   "cell_type": "code",
   "execution_count": 4,
   "metadata": {
    "collapsed": false
   },
   "outputs": [
    {
     "name": "stdout",
     "output_type": "stream",
     "text": [
      "<StoredBundle for with 222 file(s) @ 0x11443ab50>\n",
      "<StoredBundle for with 2 file(s) @ 0x11443ab10>\n",
      "<StoredBundle for with 34 file(s) @ 0x11443aad0>\n"
     ]
    }
   ],
   "source": [
    "print project.files\n",
    "print project.generators\n",
    "print project.models"
   ]
  },
  {
   "cell_type": "markdown",
   "metadata": {},
   "source": [
    "Now restore our old ways to generate tasks by loading the previously used generators."
   ]
  },
  {
   "cell_type": "code",
   "execution_count": 5,
   "metadata": {
    "collapsed": false
   },
   "outputs": [],
   "source": [
    "engine = project.generators['openmm']\n",
    "modeller = project.generators['pyemma']\n",
    "pdb_file = project.files['initial_pdb']"
   ]
  },
  {
   "cell_type": "markdown",
   "metadata": {},
   "source": [
    "## Run simulations"
   ]
  },
  {
   "cell_type": "markdown",
   "metadata": {},
   "source": [
    "You are free to conduct your simulations from a notebook but normally you will use a script. The main point about adaptivity is to make decision about tasks along the way. \n",
    "\n",
    "To make this happen we need `Conditions` which are functions that evaluate to `True` or `False` and once they are `True` they cannot change anymore back to `False`. Like a one time on switch.\n",
    "\n",
    "These are used to describe the happening of an event. We will now deal with some types of events."
   ]
  },
  {
   "cell_type": "markdown",
   "metadata": {},
   "source": [
    "### Functional Events"
   ]
  },
  {
   "cell_type": "markdown",
   "metadata": {},
   "source": [
    "We want to first look into a way to run python code asynchroneously in the project. For this, we write a function that should be executed. Inside you will create tasks and submit them.\n",
    "\n",
    "If the function should pause, write `yield {condition_to_continue}`. This will interrupt your script until the function you return will return `True` when called. An example"
   ]
  },
  {
   "cell_type": "code",
   "execution_count": 6,
   "metadata": {
    "collapsed": false
   },
   "outputs": [],
   "source": [
    "def strategy(loops=10, trajs_per_loop=4, length=100):\n",
    "    for loop in range(loops):\n",
    "        # submit some trajectory tasks\n",
    "        trajectories = project.new_ml_trajectory(length, trajs_per_loop)\n",
    "        tasks = map(engine.task_run_trajectory, trajectories)\n",
    "        project.queue(tasks)\n",
    "        \n",
    "        # continue if ALL of the tasks are done (can be failed)\n",
    "        yield [task.is_done for task in tasks]\n",
    "\n",
    "        # submit a model job\n",
    "        task = modeller.task_run_msm_files(list(project.trajectories))\n",
    "        project.queue(task)\n",
    "        \n",
    "        # when it is done do next loop\n",
    "        yield task.is_done"
   ]
  },
  {
   "cell_type": "markdown",
   "metadata": {},
   "source": [
    "and add the event to the project (these cannot be stored yet!)"
   ]
  },
  {
   "cell_type": "code",
   "execution_count": 7,
   "metadata": {
    "collapsed": false
   },
   "outputs": [
    {
     "data": {
      "text/plain": [
       "<adaptivemd.event.FunctionalEvent at 0x10d615050>"
      ]
     },
     "execution_count": 7,
     "metadata": {},
     "output_type": "execute_result"
    }
   ],
   "source": [
    "project.add_event(strategy(loops=2))"
   ]
  },
  {
   "cell_type": "markdown",
   "metadata": {},
   "source": [
    "What is missing now? The adding of the event triggered the first part of the code. But to recheck if we should continue needs to be done manually.\n",
    "\n",
    "> RP has threads in the background and these can call the trigger whenever something changed or finished. "
   ]
  },
  {
   "cell_type": "markdown",
   "metadata": {},
   "source": [
    "Still that is no problem, we can do that easily and watch what is happening"
   ]
  },
  {
   "cell_type": "markdown",
   "metadata": {},
   "source": [
    "Let's see how our project is growing. TODO: Add threading.Timer to auto trigger."
   ]
  },
  {
   "cell_type": "code",
   "execution_count": 8,
   "metadata": {
    "collapsed": true
   },
   "outputs": [],
   "source": [
    "import time\n",
    "from IPython.display import clear_output"
   ]
  },
  {
   "cell_type": "code",
   "execution_count": null,
   "metadata": {
    "collapsed": false
   },
   "outputs": [
    {
     "name": "stdout",
     "output_type": "stream",
     "text": [
      "# of files        74 : ##########################################################################\n",
      "# of models       33 : #################################\n"
     ]
    }
   ],
   "source": [
    "try:\n",
    "    while project._events:\n",
    "        clear_output(wait=True)\n",
    "        print '# of files  %8d : %s' % (len(project.trajectories), '#' * len(project.trajectories))\n",
    "        print '# of models %8d : %s' % (len(project.models), '#' * len(project.models))\n",
    "        sys.stdout.flush()\n",
    "        time.sleep(2)\n",
    "        project.trigger()\n",
    "        \n",
    "except KeyboardInterrupt:\n",
    "    pass"
   ]
  },
  {
   "cell_type": "markdown",
   "metadata": {},
   "source": [
    "Let's do another round with more loops"
   ]
  },
  {
   "cell_type": "code",
   "execution_count": 10,
   "metadata": {
    "collapsed": false
   },
   "outputs": [
    {
     "data": {
      "text/plain": [
       "<adaptivemd.event.FunctionalEvent at 0x10d633850>"
      ]
     },
     "execution_count": 10,
     "metadata": {},
     "output_type": "execute_result"
    }
   ],
   "source": [
    "project.add_event(strategy(loops=2))"
   ]
  },
  {
   "cell_type": "markdown",
   "metadata": {},
   "source": [
    "And some analysis (might have better functions for that)"
   ]
  },
  {
   "cell_type": "code",
   "execution_count": 11,
   "metadata": {
    "collapsed": false
   },
   "outputs": [
    {
     "name": "stdout",
     "output_type": "stream",
     "text": [
      "file://{}/alanine.pdb : [0, 0, 0]\n",
      "sandbox:///{}/00000005/ : [95, 92, 67, 92]\n",
      "sandbox:///{}/00000007/ : [11]\n",
      "sandbox:///{}/00000011/ : [55]\n",
      "sandbox:///{}/00000000/ : [28, 89, 72]\n",
      "sandbox:///{}/00000002/ : [106]\n",
      "sandbox:///{}/00000004/ : [31, 25, 60]\n"
     ]
    }
   ],
   "source": [
    "# find, which frames from which trajectories have been chosen\n",
    "trajs = project.trajectories\n",
    "q = {}\n",
    "ins = {}\n",
    "for f in trajs:\n",
    "    source = f.frame if isinstance(f.frame, File) else f.frame.trajectory\n",
    "    ind = 0 if isinstance(f.frame, File) else f.frame.index\n",
    "    ins[source] = ins.get(source, []) + [ind]\n",
    "\n",
    "for a,b in ins.iteritems():\n",
    "    print a.short, ':', b"
   ]
  },
  {
   "cell_type": "markdown",
   "metadata": {},
   "source": [
    "### Event"
   ]
  },
  {
   "cell_type": "markdown",
   "metadata": {},
   "source": [
    "And do this with multiple events in parallel."
   ]
  },
  {
   "cell_type": "code",
   "execution_count": 12,
   "metadata": {
    "collapsed": true
   },
   "outputs": [],
   "source": [
    "def strategy2():\n",
    "    for loop in range(10):\n",
    "        num = len(project.trajectories)\n",
    "        task = modeller.task_run_msm_files(list(project.trajectories))\n",
    "        project.queue(task)\n",
    "        yield task.is_done\n",
    "        # continue only when there are at least 2 more trajectories\n",
    "        yield project.on_ntraj(num + 2)"
   ]
  },
  {
   "cell_type": "code",
   "execution_count": 13,
   "metadata": {
    "collapsed": false
   },
   "outputs": [
    {
     "data": {
      "text/plain": [
       "<adaptivemd.event.FunctionalEvent at 0x107744c90>"
      ]
     },
     "execution_count": 13,
     "metadata": {},
     "output_type": "execute_result"
    }
   ],
   "source": [
    "project.add_event(strategy(loops=10, trajs_per_loop=2))\n",
    "project.add_event(strategy2())"
   ]
  },
  {
   "cell_type": "markdown",
   "metadata": {},
   "source": [
    "And now wait until all events are finished."
   ]
  },
  {
   "cell_type": "code",
   "execution_count": 6,
   "metadata": {
    "collapsed": false
   },
   "outputs": [],
   "source": [
    "project.wait_until(project.events_done)"
   ]
  },
  {
   "cell_type": "markdown",
   "metadata": {},
   "source": [
    "See, that we again reused our strategy."
   ]
  },
  {
   "cell_type": "code",
   "execution_count": 18,
   "metadata": {
    "collapsed": false
   },
   "outputs": [],
   "source": [
    "project.close()"
   ]
  }
 ],
 "metadata": {
  "anaconda-cloud": {},
  "kernelspec": {
   "display_name": "Python 2",
   "language": "python",
   "name": "python2"
  },
  "language_info": {
   "codemirror_mode": {
    "name": "ipython",
    "version": 2
   },
   "file_extension": ".py",
   "mimetype": "text/x-python",
   "name": "python",
   "nbconvert_exporter": "python",
   "pygments_lexer": "ipython2",
   "version": "2.7.13"
  }
 },
 "nbformat": 4,
 "nbformat_minor": 0
}
