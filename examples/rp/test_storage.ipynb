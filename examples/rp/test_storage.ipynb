{
 "cells": [
  {
   "cell_type": "code",
   "execution_count": 1,
   "metadata": {
    "collapsed": false
   },
   "outputs": [
    {
     "name": "stderr",
     "output_type": "stream",
     "text": [
      "/Users/jan-hendrikprinz/anaconda/lib/python2.7/site-packages/radical/utils/atfork/stdlib_fixer.py:58: UserWarning: logging module already imported before fixup.\n",
      "  warnings.warn('logging module already imported before fixup.')\n"
     ]
    }
   ],
   "source": [
    "import sys, os\n",
    "\n",
    "# verbose = os.environ.get('RADICAL_PILOT_VERBOSE', 'REPORT')\n",
    "os.environ['RADICAL_PILOT_VERBOSE'] = 'ERROR'\n",
    "\n",
    "from adaptivemd import (\n",
    "    AllegroCluster,\n",
    "    Project,\n",
    "    File, Directory,\n",
    "    Event, FunctionalEvent,\n",
    "    LocalCluster\n",
    "    Engine, Analysis, Model)\n",
    "\n",
    "from adaptivemd.engine.openmm import OpenMMEngine\n",
    "from adaptivemd.mongodb import UUIDObjectJSON, ObjectJSON, ObjectStore\n",
    "from adaptivemd.analysis.pyemma import PyEMMAAnalysis\n",
    "\n",
    "import numpy as np"
   ]
  },
  {
   "cell_type": "code",
   "execution_count": 2,
   "metadata": {
    "collapsed": false
   },
   "outputs": [],
   "source": [
    "import adaptivemd as amd\n",
    "import adaptivemd.engine.openmm as omm"
   ]
  },
  {
   "cell_type": "markdown",
   "metadata": {},
   "source": [
    "Let's open a project with a UNIQUE name. This will be the name used in the DB so make sure it is new."
   ]
  },
  {
   "cell_type": "code",
   "execution_count": 5,
   "metadata": {
    "collapsed": false
   },
   "outputs": [],
   "source": [
    "project = Project('test')"
   ]
  },
  {
   "cell_type": "markdown",
   "metadata": {},
   "source": [
    "Set up the project and pick a resource. This should be done only the first time, when the project is created."
   ]
  },
  {
   "cell_type": "code",
   "execution_count": 6,
   "metadata": {
    "collapsed": false
   },
   "outputs": [
    {
     "name": "stdout",
     "output_type": "stream",
     "text": [
      "<StoredBundle with 173 file(s) @ 0x1207d3510>\n",
      "<StoredBundle with 2 file(s) @ 0x1207d34d0>\n",
      "<StoredBundle with 20 file(s) @ 0x1207d3490>\n"
     ]
    }
   ],
   "source": [
    "print project.files\n",
    "print project.generators\n",
    "print project.models"
   ]
  },
  {
   "cell_type": "code",
   "execution_count": 7,
   "metadata": {
    "collapsed": false
   },
   "outputs": [],
   "source": [
    "engine = project.generators.c(Engine).one\n",
    "modeller = project.generators.c(Analysis).one\n",
    "pdb_file = project.files.f('*.pdb').one"
   ]
  },
  {
   "cell_type": "markdown",
   "metadata": {},
   "source": [
    "Opening a project will open the DB and create a RP session to be used"
   ]
  },
  {
   "cell_type": "code",
   "execution_count": 17,
   "metadata": {
    "collapsed": false
   },
   "outputs": [
    {
     "name": "stdout",
     "output_type": "stream",
     "text": [
      "CPU times: user 3 µs, sys: 1 µs, total: 4 µs\n",
      "Wall time: 5.96 µs\n",
      "<ViewBundle with 87 file(s) @ 0x106a31850>\n"
     ]
    }
   ],
   "source": [
    "print project.trajectories\n",
    "# for f in project.files:\n",
    "#     print f.url"
   ]
  },
  {
   "cell_type": "code",
   "execution_count": 18,
   "metadata": {
    "collapsed": true
   },
   "outputs": [],
   "source": [
    "t = engine.task_import_trajectory_folder('/Users/jan-hendrikprinz/radical.pilot.sandbox/rp.session.Stevie.fritz.box.jan-hendrikprinz.017219.0004-pilot.0000/staging_area/trajs/*.dcd')"
   ]
  },
  {
   "cell_type": "code",
   "execution_count": 19,
   "metadata": {
    "collapsed": true
   },
   "outputs": [],
   "source": [
    "scheduler = project.get_scheduler()"
   ]
  },
  {
   "cell_type": "code",
   "execution_count": 20,
   "metadata": {
    "collapsed": false
   },
   "outputs": [
    {
     "data": {
      "text/plain": [
       "[<adaptivemd.task.PythonTask at 0x120b62650>]"
      ]
     },
     "execution_count": 20,
     "metadata": {},
     "output_type": "execute_result"
    }
   ],
   "source": [
    "scheduler.submit(t)"
   ]
  },
  {
   "cell_type": "code",
   "execution_count": 23,
   "metadata": {
    "collapsed": false
   },
   "outputs": [
    {
     "name": "stdout",
     "output_type": "stream",
     "text": [
      "<StoredBundle with 91 file(s) @ 0x106a31810>\n"
     ]
    }
   ],
   "source": [
    "print project.files"
   ]
  },
  {
   "cell_type": "code",
   "execution_count": 37,
   "metadata": {
    "collapsed": true
   },
   "outputs": [],
   "source": [
    "import os\n",
    "from adaptivemd.reducer import _replace_prefix"
   ]
  },
  {
   "cell_type": "code",
   "execution_count": 41,
   "metadata": {
    "collapsed": false
   },
   "outputs": [
    {
     "name": "stdout",
     "output_type": "stream",
     "text": [
      "../../..rp.session.Stevie.fritz.box.jan-hendrikprinz.017219.0031-pilot.0000/staging_area/trajs/00000000.dcd\n",
      "/Users/jan-hendrikprinz/radical.pilot.sandbox/rp.session.Stevie.fritz.box.jan-hendrikprinz.017219.0004-pilot.0000/staging_area/trajs/00000000.dcd\n"
     ]
    }
   ],
   "source": [
    "print _replace_prefix(project.files.one.url)\n",
    "print _replace_prefix(project.files.last.url)"
   ]
  },
  {
   "cell_type": "code",
   "execution_count": 47,
   "metadata": {
    "collapsed": false
   },
   "outputs": [
    {
     "data": {
      "text/plain": [
       "'../../rp.session.Stevie.fritz.box.jan-hendrikprinz.017219.0004-pilot.0000/staging_area/trajs/00000000.dcd'"
      ]
     },
     "execution_count": 47,
     "metadata": {},
     "output_type": "execute_result"
    }
   ],
   "source": [
    "os.path.relpath(\n",
    "    'rp.session.Stevie.fritz.box.jan-hendrikprinz.017219.0004-pilot.0000/staging_area/trajs/00000000.dcd', \n",
    "    'rp.session.Stevie.fritz.box.jan-hendrikprinz.017219.0031-pilot.0000/unit.000000')"
   ]
  },
  {
   "cell_type": "code",
   "execution_count": 43,
   "metadata": {
    "collapsed": false
   },
   "outputs": [
    {
     "data": {
      "text/plain": [
       "'/Users/jan-hendrikprinz/Studium/git/adaptive-sampling/package/examples/tutorial'"
      ]
     },
     "execution_count": 43,
     "metadata": {},
     "output_type": "execute_result"
    }
   ],
   "source": [
    "os.getcwd()"
   ]
  },
  {
   "cell_type": "code",
   "execution_count": 9,
   "metadata": {
    "collapsed": false
   },
   "outputs": [],
   "source": [
    "from adaptivemd import Archiver"
   ]
  },
  {
   "cell_type": "code",
   "execution_count": 10,
   "metadata": {
    "collapsed": true
   },
   "outputs": [],
   "source": [
    "ar = Archiver(Directory('shared://delete'))"
   ]
  },
  {
   "cell_type": "code",
   "execution_count": 11,
   "metadata": {
    "collapsed": false
   },
   "outputs": [],
   "source": [
    "scheduler = project.get_scheduler()"
   ]
  },
  {
   "cell_type": "code",
   "execution_count": 12,
   "metadata": {
    "collapsed": false
   },
   "outputs": [],
   "source": [
    "t = ar.task_archive(list(project.trajectories))"
   ]
  },
  {
   "cell_type": "code",
   "execution_count": 13,
   "metadata": {
    "collapsed": false
   },
   "outputs": [
    {
     "data": {
      "text/plain": [
       "[<adaptivemd.task.PythonTask at 0x121b45ed0>]"
      ]
     },
     "execution_count": 13,
     "metadata": {},
     "output_type": "execute_result"
    }
   ],
   "source": [
    "scheduler.submit(t)"
   ]
  },
  {
   "cell_type": "code",
   "execution_count": 15,
   "metadata": {
    "collapsed": false
   },
   "outputs": [],
   "source": [
    "project.close()"
   ]
  },
  {
   "cell_type": "markdown",
   "metadata": {},
   "source": [
    "To actually run simulations you need to have a scheduler (maybe a better name?). This instance can execute tasks or more precise you can use it to submit tasks which will be converted to ComputeUnitDescriptions and executed on the cluster previously chosen. "
   ]
  },
  {
   "cell_type": "code",
   "execution_count": 64,
   "metadata": {
    "collapsed": false
   },
   "outputs": [],
   "source": [
    "scheduler = project.get_scheduler(cores=2)"
   ]
  },
  {
   "cell_type": "code",
   "execution_count": 65,
   "metadata": {
    "collapsed": false
   },
   "outputs": [
    {
     "data": {
      "text/plain": [
       "[<adaptivemd.task.Task at 0x121b61650>]"
      ]
     },
     "execution_count": 65,
     "metadata": {},
     "output_type": "execute_result"
    }
   ],
   "source": [
    "scheduler.submit(project.new_ml_trajectory(100, 1))"
   ]
  },
  {
   "cell_type": "code",
   "execution_count": 84,
   "metadata": {
    "collapsed": false
   },
   "outputs": [
    {
     "data": {
      "text/plain": [
       "[Trajectory(Frame(00000007.dcd[91]) >> 00000019.dcd[0..100])]"
      ]
     },
     "execution_count": 84,
     "metadata": {},
     "output_type": "execute_result"
    }
   ],
   "source": [
    "project.new_ml_trajectory(100, 1)"
   ]
  },
  {
   "cell_type": "code",
   "execution_count": 170,
   "metadata": {
    "collapsed": false
   },
   "outputs": [
    {
     "name": "stdout",
     "output_type": "stream",
     "text": [
      "shared://rp.session.Stevie.fritz.box.jan-hendrikprinz.017219.0030-pilot.0003/staging_area/trajs/00000020.dcd\n"
     ]
    }
   ],
   "source": [
    "print project.files.last"
   ]
  },
  {
   "cell_type": "code",
   "execution_count": 175,
   "metadata": {
    "collapsed": false
   },
   "outputs": [],
   "source": [
    "t = modeller.execute(list(project.trajectories))"
   ]
  },
  {
   "cell_type": "code",
   "execution_count": 176,
   "metadata": {
    "collapsed": false
   },
   "outputs": [
    {
     "data": {
      "text/plain": [
       "[<adaptivemd.task.PythonTask at 0x121d36e90>]"
      ]
     },
     "execution_count": 176,
     "metadata": {},
     "output_type": "execute_result"
    }
   ],
   "source": [
    "scheduler.submit(t)"
   ]
  },
  {
   "cell_type": "code",
   "execution_count": 87,
   "metadata": {
    "collapsed": true
   },
   "outputs": [],
   "source": [
    "import numpy as np"
   ]
  },
  {
   "cell_type": "code",
   "execution_count": 186,
   "metadata": {
    "collapsed": false
   },
   "outputs": [
    {
     "name": "stdout",
     "output_type": "stream",
     "text": [
      "[[ 578.   44.    0.   33.   28.]\n",
      " [  37.  433.    0.    1.    0.]\n",
      " [   0.    0.   74.    0.    2.]\n",
      " [  42.    0.    0.  451.   22.]\n",
      " [  28.    0.    8.   20.  453.]]\n",
      "[ 0.30301686  0.20896185  0.03371783  0.2284827   0.22582076]\n"
     ]
    }
   ],
   "source": [
    "print project.models.last.data['msm']['C']\n",
    "print (lambda x: x / sum(x))(np.sum(project.models.last.data['msm']['C'], axis=1))"
   ]
  },
  {
   "cell_type": "code",
   "execution_count": 53,
   "metadata": {
    "collapsed": true
   },
   "outputs": [],
   "source": [
    "project.close()"
   ]
  },
  {
   "cell_type": "markdown",
   "metadata": {},
   "source": [
    "Now we are good to go and can run a first simulation"
   ]
  },
  {
   "cell_type": "markdown",
   "metadata": {},
   "source": [
    "This works by creating a Trajectory object with a filename, a length and an initial frame. Then the engine will take this information and create a real trajectory with exactly this name, this initil frame and the given length.\n",
    "\n",
    "Since this is such a common task you can also submit just a `Trajectory` without the need tp convert it to a `Task` first (which the engine can also do)."
   ]
  },
  {
   "cell_type": "markdown",
   "metadata": {},
   "source": [
    "Out project can create new names automatically and so we want 4 new trajectories of length 100 and starting at the existing pdb_file we use to initialize the engine."
   ]
  },
  {
   "cell_type": "markdown",
   "metadata": {},
   "source": [
    "Great! That was easy (I hope you agree). "
   ]
  },
  {
   "cell_type": "markdown",
   "metadata": {},
   "source": [
    "#### Events"
   ]
  },
  {
   "cell_type": "markdown",
   "metadata": {},
   "source": [
    "A new concept. Tasks are great and do work for us. But so far we needed to submit tasks ourselves. In adaptive simulations we want this to happen automatically. To help with some of this events exist. This are basically a task_generator coupled with conditions on when to be executed."
   ]
  },
  {
   "cell_type": "markdown",
   "metadata": {},
   "source": [
    "Let's write a little task generator (in essence a function that returns tasks)"
   ]
  },
  {
   "cell_type": "code",
   "execution_count": 51,
   "metadata": {
    "collapsed": true
   },
   "outputs": [],
   "source": [
    "def task_generator():\n",
    "    return [\n",
    "        engine.task_run_trajectory(traj) for traj in\n",
    "        project.new_ml_trajectory(100, 2)]"
   ]
  },
  {
   "cell_type": "code",
   "execution_count": 52,
   "metadata": {
    "collapsed": false
   },
   "outputs": [
    {
     "data": {
      "text/plain": [
       "[<adaptivemd.task.Task at 0x10f863990>, <adaptivemd.task.Task at 0x10f843c90>]"
      ]
     },
     "execution_count": 52,
     "metadata": {},
     "output_type": "execute_result"
    }
   ],
   "source": [
    "task_generator()"
   ]
  },
  {
   "cell_type": "markdown",
   "metadata": {},
   "source": [
    "Now create an event."
   ]
  },
  {
   "cell_type": "code",
   "execution_count": 53,
   "metadata": {
    "collapsed": false
   },
   "outputs": [],
   "source": [
    "ev = Event().on(project.on_ntraj(range(4, 12, 2))).do(task_generator)"
   ]
  },
  {
   "cell_type": "markdown",
   "metadata": {},
   "source": [
    "`.on` specifies when something should be executed. In our case when the project has a number of trajectories (ntraj) of being one of `range(4, 24, 2)` which is `[4, 6, 8, 10, ...]`\n",
    "\n",
    "`.do` specifies the function to be called.\n",
    "\n",
    "The concept is borrowed from event based languages like often used in JavaScript. \n",
    "\n",
    "You can build quite complex execution patterns with this. An event for example also knows when it is finished and this can be used as another trigger."
   ]
  },
  {
   "cell_type": "code",
   "execution_count": 54,
   "metadata": {
    "collapsed": false
   },
   "outputs": [],
   "source": [
    "def hello():\n",
    "    print 'DONE!!!'\n",
    "    return []  # todo: allow for None here\n",
    "\n",
    "finished = Event().on(ev.on_tasks_finished()).do(hello)"
   ]
  },
  {
   "cell_type": "code",
   "execution_count": 55,
   "metadata": {
    "collapsed": false
   },
   "outputs": [
    {
     "data": {
      "text/plain": [
       "<adaptivemd.event.Event at 0x10f7f3310>"
      ]
     },
     "execution_count": 55,
     "metadata": {},
     "output_type": "execute_result"
    }
   ],
   "source": [
    "scheduler.add_event(ev)\n",
    "scheduler.add_event(finished)"
   ]
  },
  {
   "cell_type": "markdown",
   "metadata": {},
   "source": [
    "All events and tasks run parallel or at least get submitted and queue for execution in parallel. RP takes care of the actual execution."
   ]
  },
  {
   "cell_type": "markdown",
   "metadata": {},
   "source": [
    "So for now lets run more trajectories and schedule computation of models in regular intervals."
   ]
  },
  {
   "cell_type": "code",
   "execution_count": 74,
   "metadata": {
    "collapsed": false
   },
   "outputs": [
    {
     "data": {
      "text/plain": [
       "<adaptivemd.event.Event at 0x10f8c7f90>"
      ]
     },
     "execution_count": 74,
     "metadata": {},
     "output_type": "execute_result"
    }
   ],
   "source": [
    "scheduler.add_event(\n",
    "    Event().on(project.on_ntraj(range(4, 50, 2))).do(task_generator)\n",
    ")\n",
    "scheduler.add_event(\n",
    "    Event()\n",
    "    .on(project.on_ntraj(10))\n",
    "    .do(modeller.task_run_msm)\n",
    "    .repeat().until(project.on_ntraj(20)))  # todo: change that this will stop when the first event is done"
   ]
  },
  {
   "cell_type": "markdown",
   "metadata": {},
   "source": [
    "`.repeat` means to redo the same task when the last is finished (it will just append an infinite list of conditions to keep on running).\n",
    "\n",
    "`.until` specifies a termination condition. The event will not be executed once this condition is met. Makes most sense if you use `.repeat` or if the trigger condition and stopping should be independent. You might say, run 100 times unless you have a good enough model. "
   ]
  },
  {
   "cell_type": "code",
   "execution_count": 61,
   "metadata": {
    "collapsed": true
   },
   "outputs": [],
   "source": [
    "from adaptivemd import FunctionalEvent"
   ]
  },
  {
   "cell_type": "code",
   "execution_count": 59,
   "metadata": {
    "collapsed": true
   },
   "outputs": [],
   "source": [
    "def strategy():\n",
    "    # create a new scheduler\n",
    "    local_scheduler = project.get_scheduler(cores=2)\n",
    "    # run 10 trajs of length 100 in parallel\n",
    "    tasks = scheduler.submit(project.new_ml_trajectory(\n",
    "        length=100, number=10))\n",
    "    # wait until this is finished and specify a condition on when to\n",
    "    # continue (all tasks need to be done)\n",
    "    yield [t.is_done for t in tasks]\n",
    "    # close scheduler when job is done\n",
    "    local_scheduler.exit()\n",
    "    # yield a condition on when to be done. Nothing since we are\n",
    "    # done already\n",
    "    yield []"
   ]
  },
  {
   "cell_type": "code",
   "execution_count": 63,
   "metadata": {
    "collapsed": false
   },
   "outputs": [
    {
     "data": {
      "text/plain": [
       "<adaptivemd.event.FunctionalEvent at 0x10f843b10>"
      ]
     },
     "execution_count": 63,
     "metadata": {},
     "output_type": "execute_result"
    }
   ],
   "source": [
    "scheduler.add_event(FunctionalEvent(strategy))"
   ]
  },
  {
   "cell_type": "code",
   "execution_count": 71,
   "metadata": {
    "collapsed": false
   },
   "outputs": [
    {
     "data": {
      "text/plain": [
       "<adaptivemd.event.FunctionalEvent at 0x10f843490>"
      ]
     },
     "execution_count": 71,
     "metadata": {},
     "output_type": "execute_result"
    }
   ],
   "source": [
    "scheduler.add_event(FunctionalEvent(strategy))"
   ]
  },
  {
   "cell_type": "code",
   "execution_count": 74,
   "metadata": {
    "collapsed": true
   },
   "outputs": [],
   "source": [
    "ev = FunctionalEvent(strategy)"
   ]
  },
  {
   "cell_type": "code",
   "execution_count": 76,
   "metadata": {
    "collapsed": false
   },
   "outputs": [],
   "source": [
    "ev._current_when"
   ]
  },
  {
   "cell_type": "code",
   "execution_count": 68,
   "metadata": {
    "collapsed": false
   },
   "outputs": [
    {
     "data": {
      "text/plain": [
       "{<adaptivemd.scheduler.Scheduler at 0x10f70dc10>}"
      ]
     },
     "execution_count": 68,
     "metadata": {},
     "output_type": "execute_result"
    }
   ],
   "source": [
    "project.schedulers"
   ]
  },
  {
   "cell_type": "code",
   "execution_count": 40,
   "metadata": {
    "collapsed": false
   },
   "outputs": [
    {
     "name": "stdout",
     "output_type": "stream",
     "text": [
      "<StoredBundle with 16 file(s) @ 0x106a32550>\n",
      "0\n"
     ]
    }
   ],
   "source": [
    "print project.files\n",
    "print len(project.models)"
   ]
  },
  {
   "cell_type": "markdown",
   "metadata": {},
   "source": [
    "### The brain"
   ]
  },
  {
   "cell_type": "markdown",
   "metadata": {},
   "source": [
    "The brain is just a collection of events. This makes it reuseable and easy to extend."
   ]
  },
  {
   "cell_type": "code",
   "execution_count": 13,
   "metadata": {
    "collapsed": false
   },
   "outputs": [],
   "source": [
    "project.close()"
   ]
  },
  {
   "cell_type": "code",
   "execution_count": null,
   "metadata": {
    "collapsed": true
   },
   "outputs": [],
   "source": []
  }
 ],
 "metadata": {
  "anaconda-cloud": {},
  "kernelspec": {
   "display_name": "Python [default]",
   "language": "python",
   "name": "python2"
  },
  "language_info": {
   "codemirror_mode": {
    "name": "ipython",
    "version": 2
   },
   "file_extension": ".py",
   "mimetype": "text/x-python",
   "name": "python",
   "nbconvert_exporter": "python",
   "pygments_lexer": "ipython2",
   "version": "2.7.9"
  }
 },
 "nbformat": 4,
 "nbformat_minor": 1
}
