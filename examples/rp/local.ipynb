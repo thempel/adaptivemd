{
 "cells": [
  {
   "cell_type": "markdown",
   "metadata": {},
   "source": [
    "## Adaptive MD\n",
    "\n",
    "Using __`radical.pilot`__"
   ]
  },
  {
   "cell_type": "code",
   "execution_count": 1,
   "metadata": {
    "collapsed": false
   },
   "outputs": [
    {
     "name": "stdout",
     "output_type": "stream",
     "text": [
      "python version 2.7.9\n"
     ]
    }
   ],
   "source": [
    "import os\n",
    "import sys\n",
    "print 'python version', sys.version.split()[0]"
   ]
  },
  {
   "cell_type": "code",
   "execution_count": 2,
   "metadata": {
    "collapsed": false
   },
   "outputs": [
    {
     "name": "stdout",
     "output_type": "stream",
     "text": [
      "REPORT\n",
      "mongodb://localhost:27017/rp\n"
     ]
    }
   ],
   "source": [
    "# set default verbose level\n",
    "print os.environ.get('RADICAL_PILOT_VERBOSE')\n",
    "print os.environ.get('RADICAL_PILOT_DBURL')\n",
    "verbose = os.environ.get('RADICAL_PILOT_VERBOSE', 'REPORT')\n",
    "os.environ['RADICAL_PILOT_VERBOSE'] = verbose\n",
    "\n",
    "# set default URL to IMP Mongo DB\n",
    "# path_to_db = os.environ.get(\n",
    "#     'RADICAL_PILOT_DBURL', \"mongodb://ensembletk.imp.fu-berlin.de:27017/rp\")\n",
    "\n",
    "# assume we run a local\n",
    "path_to_db = os.environ.get(\n",
    "    'RADICAL_PILOT_DBURL', \"mongodb://localhost:27017/rp\")\n",
    "\n",
    "os.environ['RADICAL_PILOT_DBURL'] = path_to_db"
   ]
  },
  {
   "cell_type": "code",
   "execution_count": 3,
   "metadata": {
    "collapsed": false
   },
   "outputs": [
    {
     "name": "stderr",
     "output_type": "stream",
     "text": [
      "/Users/jan-hendrikprinz/anaconda/envs/rp/lib/python2.7/site-packages/radical/utils/atfork/stdlib_fixer.py:58: UserWarning: logging module already imported before fixup.\n",
      "  warnings.warn('logging module already imported before fixup.')\n"
     ]
    }
   ],
   "source": [
    "import radical.pilot as rp\n",
    "import radical.utils as ru"
   ]
  },
  {
   "cell_type": "code",
   "execution_count": 4,
   "metadata": {
    "collapsed": false
   },
   "outputs": [],
   "source": [
    "# import adaptive components\n",
    "\n",
    "from adaptivemd import OpenMMEngine, AllegroCluster, Brain, MDCluster, \\\n",
    "    LocalCluster, File, NTrajectories\n",
    "import adaptivemd.util as amp\n",
    "from adaptivemd import Copy, Move, Link\n",
    "from adaptivemd import Task\n",
    "from adaptivemd.task import PythonTask\n",
    "from adaptivemd.analysis import PyEMMAAnalysis\n",
    "\n",
    "import numpy as np"
   ]
  },
  {
   "cell_type": "markdown",
   "metadata": {},
   "source": [
    "#### 1. Select a resource"
   ]
  },
  {
   "cell_type": "markdown",
   "metadata": {},
   "source": [
    "We pick to run on this machine"
   ]
  },
  {
   "cell_type": "code",
   "execution_count": 5,
   "metadata": {
    "collapsed": true
   },
   "outputs": [],
   "source": [
    "resource = LocalCluster(150, 2)"
   ]
  },
  {
   "cell_type": "markdown",
   "metadata": {},
   "source": [
    "We still need to add the necessary path to find the conda installation"
   ]
  },
  {
   "cell_type": "code",
   "execution_count": 6,
   "metadata": {
    "collapsed": false
   },
   "outputs": [],
   "source": [
    "resource.add_path(amp.path_conda_local_jhp)"
   ]
  },
  {
   "cell_type": "markdown",
   "metadata": {},
   "source": [
    "Set a reporter for radical pilot"
   ]
  },
  {
   "cell_type": "code",
   "execution_count": 8,
   "metadata": {
    "collapsed": false
   },
   "outputs": [
    {
     "name": "stdout",
     "output_type": "stream",
     "text": [
      "\u001b[94m\u001b[1m\n",
      "\u001b[39m\u001b[0m\u001b[94m\u001b[1m================================================================================\n",
      "\u001b[39m\u001b[0m\u001b[94m\u001b[1m Getting Started (RP version v0.44.RC1)                                         \n",
      "\u001b[39m\u001b[0m\u001b[94m\u001b[1m================================================================================\n",
      "\u001b[39m\u001b[0m\u001b[94m\u001b[1m\n",
      "\u001b[39m\u001b[0m"
     ]
    }
   ],
   "source": [
    "# we use a reporter class for nicer output\n",
    "report = ru.LogReporter(name='radical.pilot', level=verbose)\n",
    "report.title('Getting Started (RP version %s)' % rp.version)"
   ]
  },
  {
   "cell_type": "markdown",
   "metadata": {},
   "source": [
    "pick a file from the currend working directory"
   ]
  },
  {
   "cell_type": "code",
   "execution_count": 9,
   "metadata": {
    "collapsed": false
   },
   "outputs": [],
   "source": [
    "pdb_file = File('file://input.pdb')"
   ]
  },
  {
   "cell_type": "markdown",
   "metadata": {},
   "source": [
    "create the engine"
   ]
  },
  {
   "cell_type": "code",
   "execution_count": 10,
   "metadata": {
    "collapsed": true
   },
   "outputs": [],
   "source": [
    "engine = OpenMMEngine(\n",
    "    pdb_file=pdb_file,\n",
    "    system_file=File('file://system.xml'),\n",
    "    integrator_file=File('file://integrator.xml'))"
   ]
  },
  {
   "cell_type": "code",
   "execution_count": 11,
   "metadata": {
    "collapsed": false
   },
   "outputs": [],
   "source": [
    "modeller = PyEMMAAnalysis(\n",
    "    pdb_file=pdb_file, \n",
    "    source_folder=File('../staging_area/alanine/trajs'))"
   ]
  },
  {
   "cell_type": "markdown",
   "metadata": {},
   "source": [
    "#### 3. Create the cluster used"
   ]
  },
  {
   "cell_type": "code",
   "execution_count": 12,
   "metadata": {
    "collapsed": false
   },
   "outputs": [],
   "source": [
    "cluster = MDCluster(\n",
    "    system='alanine',\n",
    "    resource=resource,\n",
    "    report=report)"
   ]
  },
  {
   "cell_type": "code",
   "execution_count": 13,
   "metadata": {
    "collapsed": false
   },
   "outputs": [],
   "source": [
    "# add the path to CONDA if now already in the default\n",
    "cluster.add_path(os.environ.get('CONDA_PATH', '~/anaconda/bin'))"
   ]
  },
  {
   "cell_type": "code",
   "execution_count": 14,
   "metadata": {
    "collapsed": true
   },
   "outputs": [],
   "source": [
    "cluster.register(engine)\n",
    "cluster.register(modeller)"
   ]
  },
  {
   "cell_type": "markdown",
   "metadata": {},
   "source": [
    "select a strategy aka _brain_"
   ]
  },
  {
   "cell_type": "code",
   "execution_count": 15,
   "metadata": {
    "collapsed": true
   },
   "outputs": [],
   "source": [
    "brain = Brain(cluster)  # this needs to be smarter"
   ]
  },
  {
   "cell_type": "code",
   "execution_count": 16,
   "metadata": {
    "collapsed": false
   },
   "outputs": [],
   "source": [
    "w = resource.wrapper\n",
    "w.append('export MODULEPATH=/import/ag_cmb/software/modules/:$MODULEPATH')\n",
    "w.append('module load cuda/7.5')"
   ]
  },
  {
   "cell_type": "markdown",
   "metadata": {},
   "source": [
    "So let's do it..."
   ]
  },
  {
   "cell_type": "code",
   "execution_count": 18,
   "metadata": {
    "collapsed": false
   },
   "outputs": [
    {
     "name": "stdout",
     "output_type": "stream",
     "text": [
      "\u001b[94mnew session: \u001b[39m\u001b[0m[rp.session.Stevie.fritz.box.jan-hendrikprinz.017200.0000]\u001b[39m\u001b[0m\u001b[94m        \\\n",
      "database   : \u001b[39m\u001b[0m[mongodb://localhost:27017/rp]\u001b[39m\u001b[0m\u001b[92m                                   ok\n",
      "\u001b[39m\u001b[0m\u001b[94mcreate pilot manager\u001b[39m\u001b[0m\u001b[92m                                                          ok\n",
      "\u001b[39m\u001b[0m\u001b[94mcreate unit manager\u001b[39m\u001b[0m\u001b[92m                                                           ok\n",
      "\u001b[39m\u001b[0m\u001b[93m\u001b[1m\n",
      "\u001b[39m\u001b[0m\u001b[93m\u001b[1m--------------------------------------------------------------------------------\n",
      "\u001b[39m\u001b[0m\u001b[93m\u001b[1msubmit pilots                                                                   \n",
      "\u001b[39m\u001b[0m\u001b[93m\u001b[1m\n",
      "\u001b[39m\u001b[0m\u001b[94mcreate pilot description\u001b[39m\u001b[0m [local.localhost:2]\u001b[39m\u001b[0m\u001b[92m                                  ok\n",
      "\u001b[39m\u001b[0m\u001b[94msubmit 1 pilot(s) \u001b[39m\u001b[0m.\u001b[39m\u001b[0m\u001b[92m                                                           ok\n",
      "\u001b[39m\u001b[0m\u001b[94madd 1 pilot(s)\u001b[39m\u001b[0m\u001b[92m                                                                ok\n",
      "\u001b[39m\u001b[0m"
     ]
    }
   ],
   "source": [
    "cluster.enter()"
   ]
  },
  {
   "cell_type": "code",
   "execution_count": 40,
   "metadata": {
    "collapsed": false
   },
   "outputs": [
    {
     "data": {
      "text/plain": [
       "'rp.session.Stevie.fritz.box.jan-hendrikprinz.017200.0000-pilot.0000'"
      ]
     },
     "execution_count": 40,
     "metadata": {},
     "output_type": "execute_result"
    }
   ],
   "source": [
    "self.folder_name = '%s-%s' % (cluster.session._uid, cluster.pilot._uid)"
   ]
  },
  {
   "cell_type": "code",
   "execution_count": 43,
   "metadata": {
    "collapsed": false
   },
   "outputs": [],
   "source": [
    "from os.path import *"
   ]
  },
  {
   "cell_type": "code",
   "execution_count": 52,
   "metadata": {
    "collapsed": false
   },
   "outputs": [
    {
     "data": {
      "text/plain": [
       "'../../../rp.session.Stevie.fritz.box.jan-hendrikprinz.017200.0000-pilot.0000/staging_area/trajs'"
      ]
     },
     "execution_count": 52,
     "metadata": {},
     "output_type": "execute_result"
    }
   ],
   "source": [
    "relpath('rp.session.Stevie.fritz.box.jan-hendrikprinz.017200.0000-pilot.0000/staging_area/trajs', 'rp.session.Stevie.fritz.box.jan-hendrikprinz.017200.0000-pilot.0001/staging_area/trajs')"
   ]
  },
  {
   "cell_type": "code",
   "execution_count": 53,
   "metadata": {
    "collapsed": true
   },
   "outputs": [],
   "source": [
    "f = File('staging:///trajs/output.dcd')"
   ]
  },
  {
   "cell_type": "code",
   "execution_count": 57,
   "metadata": {
    "collapsed": false
   },
   "outputs": [
    {
     "data": {
      "text/plain": [
       "'staging:///trajs/output.dcd'"
      ]
     },
     "execution_count": 57,
     "metadata": {},
     "output_type": "execute_result"
    }
   ],
   "source": [
    "f.location"
   ]
  },
  {
   "cell_type": "code",
   "execution_count": 25,
   "metadata": {
    "collapsed": true
   },
   "outputs": [],
   "source": [
    "t = engine.task_run_trajectory(cluster.new_trajectory(engine['pdb'], 10, number=1))"
   ]
  },
  {
   "cell_type": "code",
   "execution_count": 28,
   "metadata": {
    "collapsed": false
   },
   "outputs": [
    {
     "data": {
      "text/plain": [
       "['export MODULEPATH=/import/ag_cmb/software/modules/:$MODULEPATH',\n",
       " 'module load cuda/7.5']"
      ]
     },
     "execution_count": 28,
     "metadata": {},
     "output_type": "execute_result"
    }
   ],
   "source": [
    "t.pre_exec"
   ]
  },
  {
   "cell_type": "code",
   "execution_count": 17,
   "metadata": {
    "collapsed": false
   },
   "outputs": [
    {
     "name": "stdout",
     "output_type": "stream",
     "text": [
      "\u001b[94msubmit 1 unit(s)\n",
      "        \u001b[39m\u001b[0m.\u001b[39m\u001b[0m\u001b[92m                                                                     ok\n",
      "\u001b[39m\u001b[0m"
     ]
    },
    {
     "data": {
      "text/plain": [
       "[<adaptivemd.task.Task at 0x10ebc3bd0>]"
      ]
     },
     "execution_count": 17,
     "metadata": {},
     "output_type": "execute_result"
    }
   ],
   "source": [
    "cluster.submit(cluster.new_trajectory(engine['pdb'], 10, number=1))"
   ]
  },
  {
   "cell_type": "code",
   "execution_count": 18,
   "metadata": {
    "collapsed": true
   },
   "outputs": [],
   "source": [
    "def task_generator(cluster):\n",
    "    return [\n",
    "        cluster['engine'].task_run_trajectory(traj) for traj in\n",
    "        cluster.new_ml_trajectory(10, 2)]"
   ]
  },
  {
   "cell_type": "code",
   "execution_count": 19,
   "metadata": {
    "collapsed": false
   },
   "outputs": [
    {
     "data": {
      "text/plain": [
       "<adaptivemd.event.Event at 0x10eba3290>"
      ]
     },
     "execution_count": 19,
     "metadata": {},
     "output_type": "execute_result"
    }
   ],
   "source": [
    "cluster\\\n",
    "    .on(cluster.on_ntraj(1))\\\n",
    "    .do(task_generator)"
   ]
  },
  {
   "cell_type": "code",
   "execution_count": 20,
   "metadata": {
    "collapsed": false
   },
   "outputs": [
    {
     "data": {
      "text/plain": [
       "<adaptivemd.event.Event at 0x10ebde350>"
      ]
     },
     "execution_count": 20,
     "metadata": {},
     "output_type": "execute_result"
    }
   ],
   "source": [
    "cluster\\\n",
    "    .on(cluster.on_ntraj(1))\\\n",
    "    .do(task_generator)\\\n",
    "    .repeat().until(cluster.on_ntraj(20))"
   ]
  },
  {
   "cell_type": "code",
   "execution_count": 39,
   "metadata": {
    "collapsed": false
   },
   "outputs": [
    {
     "data": {
      "text/plain": [
       "<adaptivemd.event.Event at 0x10ec37c90>"
      ]
     },
     "execution_count": 39,
     "metadata": {},
     "output_type": "execute_result"
    }
   ],
   "source": [
    "cluster\\\n",
    "    .on(cluster.on_ntraj(range(25, 28)))\\\n",
    "    .do(task_generator)\\\n",
    "#     .repeat().until(cluster.on_ntraj(20))"
   ]
  },
  {
   "cell_type": "code",
   "execution_count": 34,
   "metadata": {
    "collapsed": false
   },
   "outputs": [
    {
     "data": {
      "text/plain": [
       "[<adaptivemd.event.Event at 0x10ec59710>]"
      ]
     },
     "execution_count": 34,
     "metadata": {},
     "output_type": "execute_result"
    }
   ],
   "source": [
    "cluster._events"
   ]
  },
  {
   "cell_type": "code",
   "execution_count": 40,
   "metadata": {
    "collapsed": false
   },
   "outputs": [
    {
     "name": "stdout",
     "output_type": "stream",
     "text": [
      "\u001b[94msubmit 2 unit(s)\n",
      "        \u001b[39m\u001b[0m.\u001b[39m\u001b[0m.\u001b[39m\u001b[0m\u001b[92m                                                                    ok\n",
      "\u001b[39m\u001b[0m\u001b[94msubmit 2 unit(s)\n",
      "        \u001b[39m\u001b[0m.\u001b[39m\u001b[0m.\u001b[39m\u001b[0m\u001b[92m                                                                    ok\n",
      "\u001b[39m\u001b[0m"
     ]
    }
   ],
   "source": [
    "cluster.trigger()"
   ]
  },
  {
   "cell_type": "code",
   "execution_count": 44,
   "metadata": {
    "collapsed": false
   },
   "outputs": [],
   "source": [
    "for ev in cluster._events:\n",
    "    print ev, bool(ev), ev.has_running_tasks, ev._active_tasks"
   ]
  },
  {
   "cell_type": "code",
   "execution_count": 45,
   "metadata": {
    "collapsed": false
   },
   "outputs": [],
   "source": [
    "cluster.trigger()"
   ]
  },
  {
   "cell_type": "code",
   "execution_count": 46,
   "metadata": {
    "collapsed": false
   },
   "outputs": [
    {
     "name": "stdout",
     "output_type": "stream",
     "text": [
      "<ViewBundle with 29 file(s) @ 0x10e86f490>\n"
     ]
    }
   ],
   "source": [
    "print cluster.trajectories"
   ]
  },
  {
   "cell_type": "code",
   "execution_count": 51,
   "metadata": {
    "collapsed": false
   },
   "outputs": [
    {
     "name": "stdout",
     "output_type": "stream",
     "text": [
      "\u001b[93m\u001b[1m\n",
      "\u001b[39m\u001b[0m\u001b[93m\u001b[1m--------------------------------------------------------------------------------\n",
      "\u001b[39m\u001b[0m\u001b[93m\u001b[1mfinalize                                                                        \n",
      "\u001b[39m\u001b[0m\u001b[93m\u001b[1m\n",
      "\u001b[39m\u001b[0m\u001b[94mclosing session rp.session.Stevie.fritz.box.jan-hendrikprinz.017200.0000\u001b[39m\u001b[0m\u001b[94m       \\\n",
      "close pilot manager\u001b[39m\u001b[0mO\u001b[39m\u001b[0m\b |\u001b[39m\u001b[0m\b-\u001b[39m\u001b[0m\b\\\u001b[39m\u001b[0m\b|\u001b[39m\u001b[0m\b/\u001b[39m\u001b[0m\b-\u001b[39m\u001b[0m\b\\\u001b[39m\u001b[0m\b|\u001b[39m\u001b[0m\b/\u001b[39m\u001b[0m\b-\u001b[39m\u001b[0m\b\\\u001b[39m\u001b[0m\b|\u001b[39m\u001b[0m\b/\u001b[39m\u001b[0m\b-\u001b[39m\u001b[0m\b\\\u001b[39m\u001b[0m\b|\u001b[39m\u001b[0m\b/\u001b[39m\u001b[0m\b-\u001b[39m\u001b[0m\b\\\u001b[39m\u001b[0m\b|\u001b[39m\u001b[0m\b/\u001b[39m\u001b[0m\b-\u001b[39m\u001b[0m\b\\\u001b[39m\u001b[0m\b|\u001b[39m\u001b[0m\b \u001b[39m\u001b[0m\u001b[94m                                                          \\\n",
      "wait for 1 pilot(s) \u001b[39m\u001b[0mO\u001b[39m\u001b[0m\b/\u001b[39m\u001b[0m\u001b[93m\b*|\u001b[39m\u001b[0m\b \u001b[39m\u001b[0m\u001b[92m                                                        ok\n",
      "\u001b[39m\u001b[0m\u001b[92m                                                                              ok\n",
      "\u001b[39m\u001b[0m\u001b[94mclose unit manager\u001b[39m\u001b[0m\u001b[92m                                                            ok\n",
      "\u001b[39m\u001b[0m\u001b[94msession lifetime: 878.5s\u001b[39m\u001b[0m\u001b[92m                                                      ok\n",
      "\u001b[39m\u001b[0m"
     ]
    }
   ],
   "source": [
    "cluster.exit()"
   ]
  },
  {
   "cell_type": "code",
   "execution_count": 39,
   "metadata": {
    "collapsed": false
   },
   "outputs": [
    {
     "name": "stdout",
     "output_type": "stream",
     "text": [
      "\n",
      "[[0.7469879482893063, 0.09073996619471751, 0.11995289595797451, 0.0, 0.042319189558001624], [0.09119556620756632, 0.7959183626805835, 0.11288607111185008, 0.0, 0.0], [0.08780494724049683, 0.08221924720109454, 0.7669902893260713, 0.048480500889836645, 0.014505015342500784], [0.0, 0.0, 0.06312169777909123, 0.9099099174080121, 0.02696838481289669], [0.16277189682530221, 0.0, 0.07621703082043221, 0.10883715897805557, 0.65217391337621]]\n"
     ]
    }
   ],
   "source": [
    "for m in cluster.models:\n",
    "    print\n",
    "    print m['msm']['P']"
   ]
  },
  {
   "cell_type": "code",
   "execution_count": 68,
   "metadata": {
    "collapsed": false
   },
   "outputs": [
    {
     "name": "stdout",
     "output_type": "stream",
     "text": [
      "[[ 0.84560906  0.00568267  0.07243243  0.          0.07627584]\n",
      " [ 0.00841153  0.88701518  0.          0.02196144  0.08261185]\n",
      " [ 0.06567568  0.          0.84811828  0.01989899  0.06630705]\n",
      " [ 0.          0.03010874  0.04453631  0.88631091  0.03904404]\n",
      " [ 0.05706761  0.04175633  0.05471305  0.01439471  0.83206831]]\n"
     ]
    }
   ],
   "source": [
    "msm = np.array(cluster.models[-1]['msm']['P'])\n",
    "print msm"
   ]
  },
  {
   "cell_type": "code",
   "execution_count": 69,
   "metadata": {
    "collapsed": false
   },
   "outputs": [
    {
     "data": {
      "text/plain": [
       "4"
      ]
     },
     "execution_count": 69,
     "metadata": {},
     "output_type": "execute_result"
    }
   ],
   "source": [
    "len(cluster.models)"
   ]
  },
  {
   "cell_type": "code",
   "execution_count": 71,
   "metadata": {
    "collapsed": false
   },
   "outputs": [
    {
     "data": {
      "text/plain": [
       "44"
      ]
     },
     "execution_count": 71,
     "metadata": {},
     "output_type": "execute_result"
    }
   ],
   "source": [
    "len(cluster.files)"
   ]
  },
  {
   "cell_type": "code",
   "execution_count": 73,
   "metadata": {
    "collapsed": false
   },
   "outputs": [
    {
     "name": "stdout",
     "output_type": "stream",
     "text": [
      "\u001b[93m\u001b[1m\n",
      "\u001b[39m\u001b[0m\u001b[93m\u001b[1m--------------------------------------------------------------------------------\n",
      "\u001b[39m\u001b[0m\u001b[93m\u001b[1mgenerated new trajectories                                                      \n",
      "\u001b[39m\u001b[0m\u001b[93m\u001b[1m\n",
      "\u001b[39m\u001b[0m\u001b[94mTrajectory(Trajectory('input.pdb'                               00000005.dcd[0..100])[93]                               00000012.dcd[0..100])\n",
      "        \u001b[39m\u001b[0m\u001b[94mTrajectory(Trajectory('input.pdb'                       00000004.dcd[0..100])[46]                       00000039.dcd[0..100])\n",
      "        \u001b[39m\u001b[0m\u001b[94mTrajectory(Trajectory(Trajectory('input.pdb'  00000004.dcd[0..100])[76]  00000017.dcd[0..100])[39]  00000037.dcd[0..100])\n",
      "        \u001b[39m\u001b[0m\u001b[94mTrajectory(Trajectory('input.pdb'                       00000005.dcd[0..100])[71]                       00000018.dcd[0..100])\n",
      "        \u001b[39m\u001b[0m\u001b[94mTrajectory(Trajectory('input.pdb'                       00000004.dcd[0..100])[76]                       00000017.dcd[0..100])\n",
      "        \u001b[39m\u001b[0m\u001b[94mTrajectory(Trajectory(Trajectory('input.pdb'  00000007.dcd[0..100])[5]  00000014.dcd[0..100])[23]  00000030.dcd[0..100])\n",
      "        \u001b[39m\u001b[0m\u001b[94mTrajectory(Trajectory('input.pdb'                       00000004.dcd[0..100])[30]                       00000011.dcd[0..100])\n",
      "        \u001b[39m\u001b[0m\u001b[94mTrajectory('input.pdb'                                                    00000007.dcd[0..100])\n",
      "        \u001b[39m\u001b[0m\u001b[94mTrajectory(Trajectory('input.pdb'                        00000007.dcd[0..100])[3]                        00000027.dcd[0..100])\n",
      "        \u001b[39m\u001b[0m\u001b[94mTrajectory(Trajectory(Trajectory('input.pdb'  00000007.dcd[0..100])[97]  00000009.dcd[0..100])[85]  00000032.dcd[0..100])\n",
      "        \u001b[39m\u001b[0m\u001b[94mTrajectory(Trajectory('input.pdb'                       00000005.dcd[0..100])[56]                       00000028.dcd[0..100])\n",
      "        \u001b[39m\u001b[0m\u001b[94mTrajectory(Trajectory(Trajectory('input.pdb'  00000006.dcd[0..100])[83]  00000015.dcd[0..100])[63]  00000031.dcd[0..100])\n",
      "        \u001b[39m\u001b[0m\u001b[94mTrajectory(Trajectory(Trajectory('input.pdb'  00000004.dcd[0..100])[73]  00000022.dcd[0..100])[95]  00000044.dcd[0..100])\n",
      "        \u001b[39m\u001b[0m\u001b[94mTrajectory(Trajectory('input.pdb'                       00000005.dcd[0..100])[23]                       00000019.dcd[0..100])\n",
      "        \u001b[39m\u001b[0m\u001b[94mTrajectory(Trajectory('input.pdb'                       00000006.dcd[0..100])[93]                       00000016.dcd[0..100])\n",
      "        \u001b[39m\u001b[0m\u001b[94mTrajectory('input.pdb'                                                    00000004.dcd[0..100])\n",
      "        \u001b[39m\u001b[0m\u001b[94mTrajectory(Trajectory(Trajectory(Trajectory('input.pdb'  00000004.dcd[0..100])[96]  00000010.dcd[0..100])[76]  00000029.dcd[0..100])[12]  00000047.dcd[0..100])\n",
      "        \u001b[39m\u001b[0m\u001b[94mTrajectory('input.pdb'                                                    00000006.dcd[0..100])\n",
      "        \u001b[39m\u001b[0m\u001b[94mTrajectory(Trajectory('input.pdb'                       00000005.dcd[0..100])[41]                       00000026.dcd[0..100])\n",
      "        \u001b[39m\u001b[0m\u001b[94mTrajectory(Trajectory('input.pdb'                       00000004.dcd[0..100])[71]                       00000020.dcd[0..100])\n",
      "        \u001b[39m\u001b[0m\u001b[94mTrajectory(Trajectory('input.pdb'                        00000007.dcd[0..100])[5]                        00000014.dcd[0..100])\n",
      "        \u001b[39m\u001b[0m\u001b[94mTrajectory(Trajectory('input.pdb'                       00000005.dcd[0..100])[50]                       00000013.dcd[0..100])\n",
      "        \u001b[39m\u001b[0m\u001b[94mTrajectory(Trajectory(Trajectory('input.pdb'  00000007.dcd[0..100])[5]  00000014.dcd[0..100])[14]  00000046.dcd[0..100])\n",
      "        \u001b[39m\u001b[0m\u001b[94mTrajectory(Trajectory('input.pdb'                       00000007.dcd[0..100])[71]                       00000023.dcd[0..100])\n",
      "        \u001b[39m\u001b[0m\u001b[94mTrajectory(Trajectory(Trajectory('input.pdb'  00000005.dcd[0..100])[41]  00000026.dcd[0..100])[42]  00000041.dcd[0..100])\n",
      "        \u001b[39m\u001b[0m\u001b[94mTrajectory(Trajectory(Trajectory('input.pdb'  00000007.dcd[0..100])[97]  00000009.dcd[0..100])[73]  00000036.dcd[0..100])\n",
      "        \u001b[39m\u001b[0m\u001b[94mTrajectory(Trajectory(Trajectory('input.pdb'  00000006.dcd[0..100])[93]  00000016.dcd[0..100])[68]  00000045.dcd[0..100])\n",
      "        \u001b[39m\u001b[0m\u001b[94mTrajectory(Trajectory('input.pdb'                       00000006.dcd[0..100])[83]                       00000015.dcd[0..100])\n",
      "        \u001b[39m\u001b[0m\u001b[94mTrajectory(Trajectory('input.pdb'                       00000006.dcd[0..100])[47]                       00000024.dcd[0..100])\n",
      "        \u001b[39m\u001b[0m\u001b[94mTrajectory(Trajectory(Trajectory('input.pdb'  00000005.dcd[0..100])[71]  00000018.dcd[0..100])[3]  00000043.dcd[0..100])\n",
      "        \u001b[39m\u001b[0m\u001b[94mTrajectory('input.pdb'                                                    00000005.dcd[0..100])\n",
      "        \u001b[39m\u001b[0m\u001b[94mTrajectory(Trajectory(Trajectory('input.pdb'  00000006.dcd[0..100])[91]  00000021.dcd[0..100])[79]  00000040.dcd[0..100])\n",
      "        \u001b[39m\u001b[0m\u001b[94mTrajectory(Trajectory(Trajectory('input.pdb'  00000005.dcd[0..100])[23]  00000019.dcd[0..100])[62]  00000034.dcd[0..100])\n",
      "        \u001b[39m\u001b[0m\u001b[94mTrajectory(Trajectory(Trajectory('input.pdb'  00000005.dcd[0..100])[23]  00000019.dcd[0..100])[81]  00000038.dcd[0..100])\n",
      "        \u001b[39m\u001b[0m\u001b[94mTrajectory(Trajectory('input.pdb'                       00000006.dcd[0..100])[91]                       00000021.dcd[0..100])\n",
      "        \u001b[39m\u001b[0m\u001b[94mTrajectory(Trajectory('input.pdb'                       00000007.dcd[0..100])[38]                       00000008.dcd[0..100])\n",
      "        \u001b[39m\u001b[0m\u001b[94mTrajectory(Trajectory('input.pdb'                       00000004.dcd[0..100])[73]                       00000022.dcd[0..100])\n",
      "        \u001b[39m\u001b[0m\u001b[94mTrajectory(Trajectory(Trajectory('input.pdb'  00000004.dcd[0..100])[96]  00000010.dcd[0..100])[75]  00000042.dcd[0..100])\n",
      "        \u001b[39m\u001b[0m\u001b[94mTrajectory(Trajectory('input.pdb'                       00000004.dcd[0..100])[96]                       00000010.dcd[0..100])\n",
      "        \u001b[39m\u001b[0m\u001b[94mTrajectory(Trajectory(Trajectory('input.pdb'  00000007.dcd[0..100])[97]  00000009.dcd[0..100])[82]  00000035.dcd[0..100])\n",
      "        \u001b[39m\u001b[0m\u001b[94mTrajectory(Trajectory(Trajectory('input.pdb'  00000007.dcd[0..100])[5]  00000014.dcd[0..100])[6]  00000033.dcd[0..100])\n",
      "        \u001b[39m\u001b[0m\u001b[94mTrajectory(Trajectory('input.pdb'                       00000007.dcd[0..100])[97]                       00000009.dcd[0..100])\n",
      "        \u001b[39m\u001b[0m\u001b[94mTrajectory(Trajectory('input.pdb'                       00000007.dcd[0..100])[33]                       00000025.dcd[0..100])\n",
      "        \u001b[39m\u001b[0m\u001b[94mTrajectory(Trajectory(Trajectory('input.pdb'  00000004.dcd[0..100])[96]  00000010.dcd[0..100])[76]  00000029.dcd[0..100])\n",
      "        \u001b[39m\u001b[0m"
     ]
    }
   ],
   "source": [
    "cluster.wait()\n",
    "\n",
    "report.header('generated new trajectories')\n",
    "\n",
    "for f in cluster.files:\n",
    "    report.info(repr(f) + '\\n\\t')"
   ]
  },
  {
   "cell_type": "code",
   "execution_count": null,
   "metadata": {
    "collapsed": true
   },
   "outputs": [],
   "source": [
    ""
   ]
  }
 ],
 "metadata": {
  "anaconda-cloud": {},
  "kernelspec": {
   "display_name": "Python [conda env:rp]",
   "language": "python",
   "name": "conda-env-rp-py"
  },
  "language_info": {
   "codemirror_mode": {
    "name": "ipython",
    "version": 2.0
   },
   "file_extension": ".py",
   "mimetype": "text/x-python",
   "name": "python",
   "nbconvert_exporter": "python",
   "pygments_lexer": "ipython2",
   "version": "2.7.9"
  }
 },
 "nbformat": 4,
 "nbformat_minor": 0
}